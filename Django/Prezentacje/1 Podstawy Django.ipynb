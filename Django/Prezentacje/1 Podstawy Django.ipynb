{
 "cells": [
  {
   "cell_type": "markdown",
   "metadata": {},
   "source": [
    "# Podstawy Django\n",
    "\n",
    "## Agenda\n",
    "1. Kilka niezbędnych pojęć na początek\n",
    "2. Framework vs. biblioteka\n",
    "3. Czym jest Django ?\n",
    "4. Django - zalety i wady\n",
    "5. Początkowy setup\n",
    "6. Django CLI"
   ]
  },
  {
   "cell_type": "markdown",
   "metadata": {},
   "source": [
    "### Kilka niezbędnych pojęć na początek\n",
    "\n",
    "#### Wzorzec projektowy\n",
    "Jest to ogólne, powtarzalne rozwiązanie często występującego problemu. Nie jest to gotowe rozwiązanie, które należy tylko wkleić do naszego kodu i będzie działało. Jest to bardziej opis w jaki sposób powinniśmy podejść do problemu i go rozwiązać. Popularnymi wzorcami projektowymi w branży IT są [Abstract Factory](https://en.wikipedia.org/wiki/Abstract_factory_pattern) oraz [Singleton](https://en.wikipedia.org/wiki/Singleton_pattern)\n",
    "#### Protokół HTTP\n",
    "Hyper Text Transfer Protocool. Protokół przesyłania danych dla sieci internetowej. Używany do komunikacji **klienta** z **serwerem**. Klient to podmiot który wysyła żądanie (**request**) a serwer to podmiot który odbiera żądanie i po wykonaniu odpowiedniej logiki po swojej stronie zwraca odpowiedź (**response**). Jest protokołem **bezstanowym** co oznacza, że nie przechowuje żadnych danych pomiędzy połączeniami. Każde żądanie (request) jest wysyłane z jedną z przedstawionych metod:\n",
    "* **GET**\n",
    "* **POST**\n",
    "* **PUT**\n",
    "* **PATCH**\n",
    "* **DELETE**\n",
    "* HEAD\n",
    "* OPTIONS\n",
    "* TRACE\n",
    "* CONNECT\n",
    "\n",
    "wartość metody odpowiada typowi operacji jaką chcemy wykonać np. metodą **GET** zazwyczaj wyciągamy dane nie modyfikując tych danych w żaden sposób, a metodę **POST** stosujemy do dodania nowych danych do bazy.\n",
    "Domyślną metodą jest metoda **GET** więc wchodząc na stronę np. `https://www.google.com` wysyłamy żądanie do serwera o kontent strony `google.com` a metoda tego żądania to **HTTP GET**.\n",
    "Warto pamiętać również, że dane wysyłane metodą GET są jawne, co oznacza że **pod żadnym pozorem** nie należy wysyłać haseł lub kluczy tą metodą, służy do tego metoda **POST**\n",
    "#### Domena\n",
    "#### Wzorzec MVC\n",
    "#### Framework"
   ]
  },
  {
   "cell_type": "markdown",
   "metadata": {},
   "source": [
    "### Framework vs. biblioteka"
   ]
  },
  {
   "cell_type": "markdown",
   "metadata": {},
   "source": [
    "### Czym jest Django ?"
   ]
  },
  {
   "cell_type": "markdown",
   "metadata": {},
   "source": [
    "### Django - zalety i wady"
   ]
  },
  {
   "cell_type": "markdown",
   "metadata": {},
   "source": [
    "### Początkowy setup"
   ]
  },
  {
   "cell_type": "markdown",
   "metadata": {},
   "source": [
    "### Django CLI"
   ]
  },
  {
   "cell_type": "code",
   "execution_count": 2,
   "metadata": {},
   "outputs": [],
   "source": [
    "### Materiały\n",
    "* [Design Patterns (Artykuł)](https://sourcemaking.com/design_patterns)"
   ]
  },
  {
   "cell_type": "code",
   "execution_count": 3,
   "metadata": {},
   "outputs": [],
   "source": [
    "### Zadanie domowe"
   ]
  }
 ],
 "metadata": {
  "kernelspec": {
   "display_name": "Python 3",
   "language": "python",
   "name": "python3"
  },
  "language_info": {
   "codemirror_mode": {
    "name": "ipython",
    "version": 3
   },
   "file_extension": ".py",
   "mimetype": "text/x-python",
   "name": "python",
   "nbconvert_exporter": "python",
   "pygments_lexer": "ipython3",
   "version": "3.7.1"
  }
 },
 "nbformat": 4,
 "nbformat_minor": 2
}
