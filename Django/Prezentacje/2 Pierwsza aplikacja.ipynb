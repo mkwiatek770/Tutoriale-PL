{
 "cells": [
  {
   "cell_type": "markdown",
   "metadata": {},
   "source": [
    "# Pierwsza aplikacja\n",
    "\n",
    "## Agenda\n",
    "1. Omówienie pliku settings.py\n",
    "2. Projekt vs. aplikacja\n",
    "3. Pierwsza aplikacja\n",
    "4. Pierwszy widok"
   ]
  },
  {
   "cell_type": "markdown",
   "metadata": {},
   "source": [
    "### Omówienie pliku settings.py\n",
    "W katalogu z projektem (w naszym przypadku new_project) znajduje się plik settings.py. Jest to plik, w którym trzymane są wszystkie globalne ustawienia naszych aplikacji. Będziemy tam umieszczać wszelkie zmiany konfiguracji, a także dodawać nowe wartości konfiguracyjne.\n",
    "\n",
    "W pliku settings.py znajdują się między innymi następujące dane:\n",
    "\n",
    "* DEBUG – ustawione na True przestawia naszą aplikację w tryb deweloperski,\n",
    "* BASE_DIR – dokładna ścieżka dostępu do projektu,\n",
    "* INSTALLED_APPS – aplikacje Django zawarte w naszym projekcie,\n",
    "* DATABASES – konfiguracja baz danych używanych przez projekt domyślną bazą w Django jest SQLite3,\n",
    "* STATIC_URL – URL, pod jakim będą serwowane pliki statyczne (javascript, css, zdjęcia itp.)\n",
    "* SECRET_KEY - Unikalny klucz, który służy do zabezpieczania naszego projektu Djangowego. Nie należy się dzielić tym kluczem z innymi, dlatego dobrym pomysłem jest trzymanie wartośći tego klucza w [zmiennej środowiskowej](https://pl.wikipedia.org/wiki/Zmienna_%C5%9Brodowiskowa)."
   ]
  },
  {
   "cell_type": "markdown",
   "metadata": {},
   "source": [
    "### Projekt vs. aplikacja\n",
    "Zanim stworzymy tą pierwszą `aplikację` warto wyjaśnić nazewnictwo rzeczy w Django. Szczególnie chodzi o różnicę pomiędzy projektem a aplikacją\n",
    "\n",
    "* **Projekt**\n",
    "\n",
    "Projekt to jest całość, projekt składa się z wielu aplikacji. W pliku `settings.py` w liście `INSTALLED_APPS` możemy zobaczyć, że jest wypisane wiele aplikacji, każda kolejna aplikacja tworozna przez nas będzie umieszczana jako kolejny element tej listy.\n",
    "\n",
    "* **Aplikacja**\n",
    "\n",
    "Pojedyńczy komponent, który jest częśćią projektu. Aplikacje dają naszemu projektowi modularność, tworząc funkcjonalność w odpowiednio nazwanej aplikacji np. częśc naszego projektu związana z użytkownikami (logowanie, rejestracja, wylogowywanie ..) stworzymy w aplikacji nazwanej `user_manager` a część związana z artykułami umieścimy w aplikacji `posts`. \n",
    "\n",
    "Aplikacje, mogą komunikować się ze sobą"
   ]
  },
  {
   "cell_type": "markdown",
   "metadata": {},
   "source": [
    "### Pierwsza aplikacja\n",
    "\n",
    "Przejdźmy do folderu `new_project` tam, gdzie jest plik `manage.py` i wpiszmy komendę:\n",
    "```\n",
    "python manage.py my_app\n",
    "```\n",
    "po wykonaniu tej komendy struktura całego projektu powinna prezentować się następująco:\n",
    "```bash\n",
    "new_project\n",
    "├── manage.py\n",
    "├── my_app\n",
    "│   ├── admin.py\n",
    "│   ├── apps.py\n",
    "│   ├── __init__.py\n",
    "│   ├── migrations\n",
    "│   │   └── __init__.py\n",
    "│   ├── models.py\n",
    "│   ├── tests.py\n",
    "│   └── views.py\n",
    "└── new_project\n",
    "    ├── __init__.py\n",
    "    ├── settings.py\n",
    "    ├── urls.py\n",
    "    └── wsgi.py\n",
    "```\n",
    "\n",
    "Został stworzony katalog `my_app` oraz następujące pliki w nim:\n",
    "* **admin.py** - plik, w którym rejestrujemy napisane przez nas modele (więcej o tym gdy będą omawiane modele)\n",
    "* **apps.py** - plik konfiguracyjny, który trzyma informacje o nazwie naszej aplikacji. Tego pliku nie modyfikujemy, po prostu trzymamy go w każdej aplikacji.\n",
    "* **models.py** - W tym pliku tworzymy modele, czyli klasy które reprezentują tabele w bazie danych. Więcej o tym gdy będą omawiane modele\n",
    "* **tests.py** - w tym pliku piszemy testy dla naszej aplikacji. Po wykonaniu komendy `python manage.py test` django szuka w naszych aplikacjach plików pasujących do wzoru: `test*` czyli np. `test.py` lub `test_models.py` i uruchamia testy znajdujące się w tym pliku.\n",
    "* **views.py** - Miejsce do definiowania widoków. Widoki są to funkcje, lub klasy. Każdy widok jest przypisany do konkretnego url'a np. do adresu `/home/` chcemy przypisać napisany przez nas widok `home_view()`\n",
    "* **migrations/** - folder w którym trzymane są pliki, które trzymają zmiany bazy danych skonfigurowanej z naszeym projektem\n",
    "\n",
    "Żeby nasza aplkacja, była widoczna przez projekt Djangowy musimy ją zarejestrować w liście `INSTALLED_APPS` w pliku `settings.py`\n",
    "\n",
    "```python\n",
    "INSTALLED_APPS = [\n",
    "    'django.contrib.admin',\n",
    "    ...\n",
    "    'my_app',  # <--- wpisujemy nazwę naszej aplikacji\n",
    "]\n",
    "```"
   ]
  },
  {
   "cell_type": "markdown",
   "metadata": {},
   "source": [
    "### Pierwszy widok\n",
    "\n",
    "Pomimo tego, że stworzyliśmy aplikację `my_app` oraz zarejestrowaliśmy ją w naszym projekcie. Nie sprawiło to, że pojawiła się jakakolwiek nowa funkcjonalność (jeszcze). Stwórzmy nasz pierwszy widok, który wyświetli użytkownikowi odpowiednie informacje, jeśli wejdzie na konkretny adres w przeglądarce.\n",
    "\n",
    "Żeby stworzyć nasz pierwszy widok, przejdźmy do pliku **views.py** w folderze **my_app** i napiszmy:\n",
    "```python\n",
    "# views.py\n",
    "from django.http import HttpResponse\n",
    "\n",
    "def home_view(request):\n",
    "    return HttpResponse(\"<h1>Hello World!</h1>\")\n",
    "\n",
    "\n",
    "```\n",
    "\n",
    "Jak widać widok, ma 2 główne zadania:\n",
    "1. Przyjmowanie żądania (request)\n",
    "2. Zwrócenie odpowiedzi (response)\n",
    "Pomiędzy tymi 2 operacjami, może się odbywać logika np. komunikacja z bazą danych. Każdy widok, przyjmuje obowiązkowy argument **request**\n",
    "\n",
    "stworzony widok, musimy przypisać do jakiegoś URL'a przejdźmy więc do pliku **urls.py** w folderze **new_project**:\n",
    "```python\n",
    "# urls.py\n",
    "from django.contrib import admin\n",
    "from django.urls import path\n",
    "\n",
    "from my_app import views\n",
    "\n",
    "urlpatterns = [\n",
    "    path('admin/', admin.site.urls),\n",
    "    path(\"\", views.home_view, name=\"home\"),  # <-- rejestrujemy nasz widok przypisując mu adres na stronie\n",
    "]\n",
    "\n",
    "```\n",
    "\n",
    "pod adresem domowym czyli `/` został przypisany widok **home_view** więc po uruchomieniu serwera `python manage.py runserver` pod adresem: `http://localhost:8000/` powinniśmy to co zwraca widok. Trzeci parametr funkcji **path** czyli **name** jest opcjonalny, służy on do nadawania tzw. **aliasa** adresowi, potem w dowonym miejscu projektu, jeśli chcemy się odwołać do tego URL'a to nie musimy podawać pełnej ścieżki, tylko możemy posłużyć się tym **aliasem**\n",
    "\n",
    "Po przejściu na adres `http://localhost:8000/` powinniśmy widzieć taki napis:\n",
    "![alt image](https://i.imgur.com/Mh0ZO4h.png)"
   ]
  },
  {
   "cell_type": "markdown",
   "metadata": {},
   "source": [
    "### Zadanie domowe\n",
    "Jest to kontynuacja projektu `my_project` który był tworzony w zadaniu domowym w prezentacji nr. 1 \n",
    "1. Używając django CLI stwórz aplikację o nazwie `some_app`\n",
    "2. Zarejestruj tą aplikacje w projekcie\n",
    "3. Stwórz widok `hello`, który zwraca napis \"Witaj Świecie!\" (nie musisz używać żadnych elementów HTML'a)\n",
    "4. Przypisz ten widok pod adres `/hello/` tak, żeby po przejściu na `http://localhost:8000/hello` był widoczny napis. Uruchom serwer i sprawdź czy wszystko działa poprawnie.\n",
    "\n",
    "Powodzenia ! ;)"
   ]
  },
  {
   "cell_type": "markdown",
   "metadata": {},
   "source": [
    "### Źródła\n",
    "* [Zmienna środowiskowa](https://pl.wikipedia.org/wiki/Zmienna_%C5%9Brodowiskowa)\n",
    "* [Secret Key Django Documentation](https://docs.djangoproject.com/en/2.2/ref/settings/#secret-key)"
   ]
  }
 ],
 "metadata": {
  "kernelspec": {
   "display_name": "Python 3",
   "language": "python",
   "name": "python3"
  },
  "language_info": {
   "codemirror_mode": {
    "name": "ipython",
    "version": 3
   },
   "file_extension": ".py",
   "mimetype": "text/x-python",
   "name": "python",
   "nbconvert_exporter": "python",
   "pygments_lexer": "ipython3",
   "version": "3.7.1"
  }
 },
 "nbformat": 4,
 "nbformat_minor": 2
}
