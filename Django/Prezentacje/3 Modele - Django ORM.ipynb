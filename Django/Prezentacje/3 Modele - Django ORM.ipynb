{
 "cells": [
  {
   "cell_type": "markdown",
   "metadata": {},
   "source": [
    "# Modele - Django ORM\n",
    "\n",
    "## Agenda\n",
    "1. Czym są modele ?\n",
    "2. Czym jest ORM ? \n",
    "3. Pierwsze modele w naszym projekcie\n",
    "4. Migracje\n",
    "5. Django a baza danych\n",
    "6. Modele - pola oraz ich parametry\n",
    "7. Relacje"
   ]
  },
  {
   "cell_type": "markdown",
   "metadata": {},
   "source": [
    "### Czym są modele ?\n",
    "Modele w Django reprezentują obraz bazy danych. Każdy model odpowiada za jedną tabelę w naszej bazie danych. Modele są w Django reprezentowane jako pythonowe klasy. Piszemy je w pliku `models.py`\n",
    "\n",
    "Przykład:\n",
    "```python\n",
    "# models.py\n",
    "from django.db import models\n",
    "\n",
    "\n",
    "class Item(models.Model):\n",
    "    name = models.CharField(max_length=80)\n",
    "    description = models.TextField()\n",
    "    price = models.DecimalField(max_digits=6, decimal_places=2)\n",
    "    available = models.BooleanField(default=True)\n",
    "```\n",
    "\n",
    "Każda klasa reprezentująca model musi dziedziczyć po klasie `Model`, znajdującej się w pakiecie `django.db.models`\n",
    "Definicje pól również znajdują się w pakiecie `django.db.models`\n",
    "Stworzony wyżej model, może odpowiadać za tabelę produktu, która ma takie pola jak `nazwa, opis, cena` oraz `dostępność`. Każde pole ma zdefiniowany odpowiedni typ np. cena jest to liczba zmiennoprzecinkowa, dlatego typ tego pola to `DecimalField`."
   ]
  },
  {
   "cell_type": "markdown",
   "metadata": {},
   "source": [
    "### Czym jest ORM ?\n",
    "Aby ułatwić programistom pracę, wymyślono ORM (**Object Relational Mapping**), czyli biblioteki programistyczne, których celem jest zamiana tabeli z bazy danych na obiekt języka programowania. Dzięki temu, nie musimy znać języka SQL, żeby pisać w Django. Django ma wbudowany ORM, który zamienia tabele z bazy danych na klasy, oraz klasy na tabele. To poprzez ORM Django komunikuje się z bazą danych."
   ]
  },
  {
   "cell_type": "markdown",
   "metadata": {},
   "source": [
    "### Pierwsze modele w naszym projekcie\n",
    "\n",
    "Mamy już za sobą pierwszy widok. Czas na coś więcej! Załóżmy, że nasza aplikacja to będzie blog, stwórzmy więc model `Article` który będzie reprezentował tabelę w bazie danych, która będzie trzymałą listę napisanych artykułów.\n",
    "\n",
    "W pliku `models.py` w aplikacji `my_app` napiszmy:\n",
    "```python\n",
    "from django.db import models\n",
    "from django.contrib.auth.models import User\n",
    "\n",
    "\n",
    "class Article(models.Model):\n",
    "\n",
    "    title = models.CharField(max_length=80)\n",
    "    description = models.TextField()\n",
    "    likes = models.IntegerField(default=0)\n",
    "    dislikes = models.IntegerField(default=0)\n",
    "    published_date = models.DateTimeField()\n",
    "    author = models.ForeignKey(User, on_delete=models.CASCADE)\n",
    "\n",
    "```\n",
    "\n",
    "W rozdziale **Modele - pola oraz ich atrybuty** omówimy poszczególne pola tego modelu. Chciałbym jednak zwrócić szczególną uwagę na polę **author** które jest typu **ForeignKey**. Oznacza to, że jest ono kluczem obcym do innego modelu **User**. Ale jak to ? Przecież nie stworzyliśmy takiego modelu! Django ma wbudowane kilka modeli, których możemy używać, jednym z nich jest właśnie model **User** znajdujący się w `django.contrib.auth.models`. Innymi modelami z których od razu możemy korzystać to **Group** oraz **Permission**.\n"
   ]
  },
  {
   "cell_type": "markdown",
   "metadata": {},
   "source": [
    "### Migracje\n",
    "Pomimo tego, że stworzyliśmy model **Article** to nie został on jeszcze przepisany do bazy danych naszego projektu i nie możemy jeszcze korzystać z niego. Proces zamienieniania modelu na tabelę w bazie danych nazywany jest **migracją**. Żeby zrobić migracje po napisaniu modelu musimy wykonać wpisać 2 komendy po sobie w Django CLI (python manage.py ...)\n",
    "1. Przygotowanie pliku migracyjnego\n",
    "```shell\n",
    "python manage.py makemigrations\n",
    "```\n",
    "\n",
    "2. Wykonanie migracji\n",
    "```python\n",
    "python manage.py migrate\n",
    "```\n",
    "\n",
    "Po wpisaniu tych komend, powinniśmy uzyskać następujący rezultat w konsoli:\n",
    "![alt image](https://i.imgur.com/tO1ZOtA.png)\n",
    "\n",
    "Po wykonaniu `python manage.py migrate` dużo się dzieje, ale to dlatego, że po wpisaniu tej komendy w nowo powstałym projekcie, oprócz przepisania modelu **Article** napisanego przez nas, przepisane do bazy również zostają wbudowane modele Djangowe takie jak **User**, **Group**, **Permission** oraz kilka innych.\n",
    "\n",
    "Po wykonaniu migracji, możemy śmiało korzystać z modelu **Article** w naszym projekcie."
   ]
  },
  {
   "cell_type": "markdown",
   "metadata": {},
   "source": [
    "### Django a baza danych\n",
    "Django ma domyślnie dodaną bazę danych do projektu jest nią baza [**SQLite**](https://www.sqlite.org/index.html). Nie jesteśmy jednak ograniczeni tylko do tej opcji, możemy korzystać z wielu innych takich jak:\n",
    "* [**PostgreSQL**](https://www.postgresql.org/)\n",
    "* [**MySQL**](https://www.mysql.com/)\n",
    "* [**Oracle**](https://www.oracle.com/index.html)\n",
    "\n",
    "Wszystkie wyżej wymienione bazy to są tzw. **bazy relacyjne** czyli bazy w których np. tabela **A** może trzymać klucz obcy tabeli **B** czyli występuje między nimi relacja. Nie jesteśmy jednak ograniczeni, tylko do tych opcji, możemy równie dobrze do Django podpiąć bazę nierelacyjną / NoSQL'ową taką jak np. **Redis** czy **MongoDB**. Jednak stracimy wtedy wielką zaletę Django jaką jest wbudowany ORM, który świetnie działa dla baz relacyjnych\n",
    "\n",
    "**Gdzie Django trzyma informacje o naszej bazie ?**\n",
    "Dzieje się to w pliku `settings.py` znajdziemy tam zmienną **DATABASES**`\n",
    "```python\n",
    "DATABASES = {\n",
    "    'default': {\n",
    "        'ENGINE': 'django.db.backends.sqlite3',\n",
    "        'NAME': os.path.join(BASE_DIR, 'db.sqlite3'),\n",
    "    }\n",
    "}\n",
    "```\n",
    "Jak widać domyślną bazą jest SQLite. Jak możemy zobaczyć w naszym projekcie po wykonaniu komendy migracji (`python manage.py migrate`) został stworzony plik **db.sqlite3** który jest naszą bazą.\n"
   ]
  },
  {
   "cell_type": "markdown",
   "metadata": {},
   "source": [
    "### Modele - pola oraz ich parametry\n",
    "\n",
    "Wróćmy do modelu **Article**\n",
    "```python\n",
    "class Article(models.Model):\n",
    "    title = models.CharField(max_length=80)\n",
    "    description = models.TextField()\n",
    "    likes = models.IntegerField(default=0)\n",
    "    dislikes = models.IntegerField(default=0)\n",
    "    published_date = models.DateTimeField()\n",
    "    author = models.ForeignKey(User, on_delete=models.CASCADE)\n",
    "```\n",
    "\n",
    "Jak widzimy każde pole ma określony typ. Typy pól odpowiadają typom dostępnym w bazie danych. Omówmy podstawowe typy:\n",
    "* **CharField** - typ znakowy / string. Ma obowiązkowy argument `max_length` który określa maksymalną ilość znaków dla tego pola\n",
    "* **TextField** - pole tekstowe. Nie ma określonej maksymalnej liczby znaków, idealnie nadaje się do długich teskstów.\n",
    "* **IntegerField** - Liczba całkowita. Przechowuje wartości z zakresu od -32768 do 32767\n",
    "* **DecimalField** - Liczba zmiennoprzecinkowa / float. Przyjmuje 2 obowiązkowe argumenty `max_digits` oraz `decimal_places` które mówią ile maksymalnie cyfr może mieć liczba, oraz ile cyfr po przecinku jest dozwolonych.\n",
    "* **DateField** - Data (Rok, miesiąc, dzień)\n",
    "* **DateTimeField** - Data razem z godziną (Rok, miesiąc, dzień, godzina, minuta, sekunda)\n",
    "* **BooleanField** - Pole przechowujące wartość logiczną True lub False.\n",
    "\n",
    "\n",
    "Jak możemy zauważyć niektóre z wyżej zdefiniowanych pól mają wpisane parametry takie jak `max_length`, `default` ..\n",
    "Niektóre z tych parametrów są przypisane dla odpowiedniego typu np. parametr **decimal_places** jest dla pola **DecimalField**. Istnieją jednak parametry, które można przypisywać do wielu pól takie parametry to na przykład:\n",
    "* **default** - wartość domyślna dla danego pola\n",
    "* **null** - jeśli jest ustawione na `True` to pole może nic nie przechowywać (NULL), domyślnie ustawione na `False` \n",
    "\n",
    "Jest jeszcze wiele więcej typów i parametrów w Django. \n",
    "Wszystkie pola i parametry znajdziemy na stronie: https://docs.djangoproject.com/en/2.2/ref/models/fields/"
   ]
  },
  {
   "cell_type": "code",
   "execution_count": 3,
   "metadata": {},
   "outputs": [],
   "source": [
    "### Relacje"
   ]
  },
  {
   "cell_type": "code",
   "execution_count": 4,
   "metadata": {},
   "outputs": [],
   "source": [
    "### Zadanie domowe"
   ]
  },
  {
   "cell_type": "markdown",
   "metadata": {},
   "source": [
    "### Źródła\n",
    "1. [ORM Wikipedia](https://en.wikipedia.org/wiki/Object-relational_mapping)\n",
    "2. [Django modele - oficjalna dokumentacja](https://docs.djangoproject.com/en/2.2/topics/db/)\n",
    "3. [Django modele - lista dostępnych pól i parametrów](https://docs.djangoproject.com/en/2.2/ref/models/fields/)\n"
   ]
  },
  {
   "cell_type": "code",
   "execution_count": null,
   "metadata": {},
   "outputs": [],
   "source": []
  }
 ],
 "metadata": {
  "kernelspec": {
   "display_name": "Python 3",
   "language": "python",
   "name": "python3"
  },
  "language_info": {
   "codemirror_mode": {
    "name": "ipython",
    "version": 3
   },
   "file_extension": ".py",
   "mimetype": "text/x-python",
   "name": "python",
   "nbconvert_exporter": "python",
   "pygments_lexer": "ipython3",
   "version": "3.7.1"
  }
 },
 "nbformat": 4,
 "nbformat_minor": 2
}
