{
 "cells": [
  {
   "cell_type": "markdown",
   "metadata": {},
   "source": [
    "# Operacje na modelach\n",
    "\n",
    "## Agenda\n",
    "1. python shell\n",
    "2. Pierwsze użycie modeli \n",
    "3. Więcej o modelu User\n",
    "4. Panel administracyjny i rejestrowanie modeli\n",
    "5. Querysety"
   ]
  },
  {
   "cell_type": "markdown",
   "metadata": {},
   "source": [
    "### python shell\n",
    "Ale zaraz! Miało być przecież o modelach a nie o jakimś \"szelu\" ... Pokażę Ci, że `python shell` jest to bardzo przydatne narzędzie podczas tworzenia projektu w `Django`. `python shell` to tak naprawdę zwykła konsola pythonowa, z pewnymi dodatkami jak np. to, że jesteśmy połączeni z bazą danych więc możemy dodawać nowe rzeczy do bazy oraz wyciągać z niej przydatne informacje. \n",
    "\n",
    "Żeby włączyć zwykłą konsolę pythonową gdy jesteśmy w terminalu wystarczy wpisać `python` (czasami `python3`). W przypadku `python shell`'a które daje nam Django musimy wpisać komendę `python manage.py shell` czyli znowu korzystamy z django-admin CLI. Po wpisaniu powinien pokazać się pythonowy interpreter.\n",
    "\n",
    "Stworzyliśmy ostatnio model `Article` w naszym projekcie, zaimportujmy sobie ten model, zaimportujmy również model użytkownika.\n",
    "```\n",
    ">>> from my_app.models import Article\n",
    ">>> from django.contrib.auth.models import User\n",
    "```\n",
    "\n",
    "Jeśli nie wyrzuciło żadnego wyjątku np. `ModuleNotFoundError` to znaczy że wszystko jest super i możesz przejść do następnej sekcji."
   ]
  },
  {
   "cell_type": "markdown",
   "metadata": {},
   "source": [
    "### Pierwsze użycie modeli\n",
    "W programowaniu tworzymy klasy po to, żeby na ich podstawie tworzyć obiekty, tak samo po to tworzymy modele, żeby na ich podstawie tworzyć obiekty, które nie tylko będą dostępne w naszym programie, ale również informacje o tych obiektach będą trzymane w bazie danych.\n",
    "\n",
    "Modele mają metody, których możemy używać do różnych operacji na nich.\n",
    "Pierwszą akcją jaką zademonstruje to będzie tworzenie obiektu:\n",
    "\n",
    "Mam nadzieję, że dalej masz otwarty `shell` oraz masz zaimportowany modele `Article` oraz `User` jeśli tak wpisz:\n",
    "```python\n",
    ">>> user = User.objects.create_user(\n",
    "     username=\"user999\",\n",
    "     password=\"password\",\n",
    "     email=\"test@gmail.com\"\n",
    "   )\n",
    ">>> from django.utils import timezone\n",
    ">>> article1 = Article.objects.create(\n",
    "     title=\"tytuł ...\",\n",
    "     text=\"Opis ...\",\n",
    "     published_date=timezone.now(),\n",
    "     author=user\n",
    "    )\n",
    ">>> article2 = Article.objects.create(\n",
    "    title=\"inny tytuł\",\n",
    "    text=\"Inny opis\",\n",
    "    published_date=timezone.now(),\n",
    "    author=user\n",
    "   )\n",
    "```"
   ]
  },
  {
   "cell_type": "code",
   "execution_count": null,
   "metadata": {},
   "outputs": [],
   "source": []
  }
 ],
 "metadata": {
  "kernelspec": {
   "display_name": "Python 3",
   "language": "python",
   "name": "python3"
  },
  "language_info": {
   "codemirror_mode": {
    "name": "ipython",
    "version": 3
   },
   "file_extension": ".py",
   "mimetype": "text/x-python",
   "name": "python",
   "nbconvert_exporter": "python",
   "pygments_lexer": "ipython3",
   "version": "3.6.7"
  }
 },
 "nbformat": 4,
 "nbformat_minor": 2
}
