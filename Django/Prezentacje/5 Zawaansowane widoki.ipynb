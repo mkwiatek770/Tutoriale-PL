{
 "cells": [
  {
   "cell_type": "markdown",
   "metadata": {},
   "source": [
    "# Zawaansowane widoki\n",
    "\n",
    "## Agenda\n",
    "1. Request & response\n",
    "2. Do czego służą widoki ?\n",
    "3. Rodzaje widoków\n",
    "4. Django template language\n",
    "5. Tworzenie widoków w naszym projekcie\n",
    "6. Widoki generyczne"
   ]
  },
  {
   "cell_type": "markdown",
   "metadata": {},
   "source": [
    "### Request vs. response\n",
    "Jest to podstawowy sposób komunikacji odbywającej się w protokole HTTP. Gdy chcemy uzyskać dostęp do jakiegoś miejsca np. `http://www.google.com` wysyłamy **żądanie** (**reqest**) do serwera, który hostuje ten adres. Ten serwer odbiera nasz **request**, przetwarza go i zwraca odpowiedni **response**.\n",
    "\n",
    "W Django mamy wbudowane obiekty, które pozwalają nam obsługiwać zarówno żądania jak i odpowiedzi na te żądania.\n",
    "\n",
    "**HttpRequest**\n",
    "W Django za obsługę żądania HTTP odpowiada obiekt HttpRequest. Klasa definiująca ten obiekt znajduje się w module django.http.\n",
    "Zawiera wszystkie pola nagłówków żądania. Te pola możesz wykorzystywać w swojej aplikacji.\n",
    "Obiekt HttpRequest jest obsługiwany przez framework. W większości przypadków nie będziecie o nim nawet myśleć ;-)\n",
    "\n",
    "**HttpResponse**\n",
    "Za obsługę odpowiedzi w Django odpowiada obiekt HttpResponse. Klasa definiująca ten obiekt znajduje się w module django.http."
   ]
  },
  {
   "cell_type": "markdown",
   "metadata": {},
   "source": [
    "### Do czego służą widoki ?\n",
    "Widok jest to kluczowy komponent frameworku, pisałem już o nich w pierwszym rozdziale. Są to funkcję / klasy które przyjmują obiekt **HttpRequest** przetwarzają go i zwracają obiekt **HttpResponse**. Każdy widok musi być przypisany do URL'a. Widoki są używane do rzeczy takich jak wyciąganie rzeczy z bazy, modyfikowanie danych w bazie, obsługa formularzy, zwracanie HTML'a ..\n",
    "\n",
    "Wróćmy zatem do naszego projektu. Stworzyliśmy ostanio model `Article` oraz nauczyliśmy się jak uzyskiwać infromacje z tego modelu używając `querysetów`, wykorzystajmy tą wiedzę tworząc widok, dostępny pod adresem `/articles`, który będzie zwracał listę wszystkich artykułów.\n",
    "W pliku `views.py` napiszmy:\n",
    "\n",
    "```python\n",
    "from django.http import HttpResponse\n",
    "from django.shortcuts import render\n",
    "from my_app.models import Article\n",
    "\n",
    "...\n",
    "\n",
    "def articles(request):\n",
    "    articles = Article.objects.all()\n",
    "    return render(request, \"articles.html\", {\n",
    "        \"articles\": articles\n",
    "    })\n",
    "```\n",
    "Stworzyliśmy widok **articles**, który przyjmuje obowiązkowy parametr **request**. W widoku wyciągamy z bazy wszystkie artykuły z modelu **Article**. Zwracamy response używając funkcji **render()** zaimportowanej z `django.shortcuts`, ta funkcja przyjmuje 3 parametry:\n",
    "* obiekt **request**\n",
    "* plik html w który ma być wyrenderowany. Domyślna lokalizacja w której Django szuka templatek to jest folder `templates` wewnątrz aplikacji. Dlatego plik **articles.htm** znajduje się w **my_app/templates/articles.html**\n",
    "* zmienne, które zostaną przekazane do tego html'a. Zbiór tych zmiennych nazywamy **kontekstem** nazwy które piszemy w cudzysłowie to będą nazwy do których będziemy się odnosili w HTML'u\n",
    "\n",
    "Stwórzmy więc plik **articles.html** w folderze **templates** wewnątrz aplikacji **my_app**.\n",
    "\n",
    "```html\n",
    "<!DOCTYPE html>\n",
    "<html lang=\"en\">\n",
    "<head>\n",
    "    <title>Lista artykułów</title>\n",
    "</head>\n",
    "<body>\n",
    "    <h1>Lista artykułów</h1>\n",
    "    <hr>\n",
    "    {% for article in articles %}\n",
    "        <h5>{{ article.title }}</h5>\n",
    "        <p>Author: <span>{{ article.author.username }}</span></p>\n",
    "        <p> \n",
    "            Likes: <span style=\"font-weight: bold;\">{{ article.likes }}</span> \n",
    "            Dislikes: <span style=\"font-weight: bold;\">{{ article.dislikes }}</span>\n",
    "        </p>\n",
    "        <br>\n",
    "        <br>\n",
    "    {% endfor %}\n",
    "</body>\n",
    "</html>\n",
    "```\n",
    "\n",
    "Trochę dziwny ten HTML, prawda ;) ? Django posiada swój silnik zwany **Django Template Language** który pozwala pisać zwykły html z dodatkami takimi jak wyświetlanie zmiennych przekazanych w kontekscie, używanie różnych **tagów** takich jak pętla czy instrukcja warunkowa oraz wiele więcej.\n",
    "\n",
    "\n",
    "Musimy przypisać nasz widok pod wybrany przez nas URL. Przejdźmy do pliku **urls.py** znajdującego się w folderze **new_project** i napisz:\n",
    "\n",
    "```python\n",
    "from django.contrib import admin\n",
    "from django.urls import path\n",
    "\n",
    "from my_app import views \n",
    "\n",
    "urlpatterns = [\n",
    "    path('admin/', admin.site.urls),\n",
    "    path(\"\", views.home_view, name=\"home\"),\n",
    "    path(\"articles/\", views.articles, name=\"articles\"), # <-- ta linia została dodana\n",
    "]\n",
    "```\n",
    "\n",
    "\n",
    "Uruchom serwer i przejdź na adres http://localhost:8000/articles\n",
    "Powinien się wyświetlić następujący rezultat:\n",
    "![alt image](https://i.imgur.com/ngL4MTe.png)\n"
   ]
  },
  {
   "cell_type": "markdown",
   "metadata": {},
   "source": [
    "### Rodzaje widoków\n",
    "\n",
    "Django posiada dwa rodzaje pisania widoków:\n",
    "* **function-based views** (FBVs) - widoki funkcyjne\n",
    "* **class-based views** (CBVs) - widoki klasowe\n",
    "\n",
    "Na początku Django posiadało tylko widoki funkcyjne, potem dodali również widoki klasowe, żeby ułatwić pisanie często powtarzającej się logiki w naszych widokach (dodawanie danych do bazy, dodawanie formularza, lista elementów z bazy itp.). Zarówno widoki funkcyjne jak i klasowe mają swoje zalety i wady, dlatego nie możemy mówić, że należy używać tylko jednej metody podczas pisania naszych widoków."
   ]
  },
  {
   "cell_type": "markdown",
   "metadata": {},
   "source": [
    "### Materiały\n",
    "* [Class based views vs. function based views](https://medium.com/@ksarthak4ever/django-class-based-views-vs-function-based-view-e74b47b2e41b)"
   ]
  },
  {
   "cell_type": "code",
   "execution_count": null,
   "metadata": {},
   "outputs": [],
   "source": []
  }
 ],
 "metadata": {
  "kernelspec": {
   "display_name": "Python 3",
   "language": "python",
   "name": "python3"
  },
  "language_info": {
   "codemirror_mode": {
    "name": "ipython",
    "version": 3
   },
   "file_extension": ".py",
   "mimetype": "text/x-python",
   "name": "python",
   "nbconvert_exporter": "python",
   "pygments_lexer": "ipython3",
   "version": "3.6.7"
  }
 },
 "nbformat": 4,
 "nbformat_minor": 2
}
