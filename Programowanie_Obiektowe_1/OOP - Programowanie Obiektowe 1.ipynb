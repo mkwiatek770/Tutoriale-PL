{
 "cells": [
  {
   "cell_type": "markdown",
   "metadata": {},
   "source": [
    "# Agenda\n",
    "1. Wstęp\n",
    "2. Zalety programowania obiektowego\n",
    "3. Zagadnienia związane z OOP\n",
    "4. Główne założenia programowania obiektowego\n",
    "5. Omówienie założeń OOP w praktyce \n",
    "\n",
    "\n",
    "\n",
    "\n",
    "\n",
    "\n",
    "\n"
   ]
  },
  {
   "cell_type": "markdown",
   "metadata": {},
   "source": [
    "### Wstęp\n",
    "\n",
    "Programowanie Obiektowe to najbardziej popularny `paradygmat` (sposób tworzenia programu) na świecie. Niektóre języki korzystają i wspierają tylko z jednego paradygmatu programowania np. `Haskell` wspiera tylko `OOP`. Bardziej popularne jednak są języki, które są hybrydami i wspierają wiele paradygmatów. \n",
    "\n",
    "Python wspiera `programowanie obiektowe`, `programowanie strukturalne` oraz zawiera wiele możliwości pisania w paradygmacie `programowania funkcyjnego`\n",
    "\n",
    "W Pythonie wszystko jest obiektem"
   ]
  },
  {
   "cell_type": "code",
   "execution_count": 8,
   "metadata": {
    "scrolled": true
   },
   "outputs": [],
   "source": [
    "class SomeClass:\n",
    "    pass\n",
    "\n",
    "# Tworzymy obiekty\n",
    "class_instance_1 = SomeClass()\n",
    "class_instance_2 = SomeClass()\n",
    "\n",
    "# stworzonym obiektom możemy tworzyć atrybuty\n",
    "class_instance_1.name = \"Michał\"\n",
    "\n",
    "assert isinstance(class_instance_1, SomeClass)"
   ]
  },
  {
   "cell_type": "markdown",
   "metadata": {},
   "source": [
    "### Zalety Programowania Obiektowego\n",
    "* Możliwość użuwania naszego kodu w różnych miejscach / projektach\n",
    "* Kod łatwiejszy w utrzymaniu\n",
    "* Umożliwia równoległe tworzenie Sofware'u"
   ]
  },
  {
   "cell_type": "markdown",
   "metadata": {},
   "source": [
    "### Zagadnienia Związane z OOP\n",
    "\n",
    "#### Klasa\n",
    "Jest to schemat, który zawiera rzeczy i czynności (atrybuty i metody). Na podstawie tego schematu, tworzymy obiekty. Na przykład klasa `Samochód` definiuje, że każdy samochód musi mieć markę, liczbę drzwi, moc silnika oraz funkcje przyspieszania, hamowania i skręcania.\n",
    "\n",
    "#### Obiekt\n",
    "Zwany również instancją. Jest fizycznym, zajmującym pamięć komputera wcieleniem klasy. Tworzony jest na podstawie klasy. Jedna klasa może mieć wiele obiektów\n",
    "#### Atrybut\n",
    "Jest to nic innego jak zmienna wewnątrz klasy. Możemy uzyskiwać dostęp do atrybutów wewnątrz klasy jak i poza nią (O ile nie są to atrybuty prywatne). Zmienne mogą być klasowe, lub obiektowe (różnica w drugiej części)\n",
    "#### Metoda\n",
    "Są to po prostu funkcje wewnątrz klasy. Metoda jako pierwszy argument przyjmuje `self` czyli takie odwołanie do obiektu. Oprócz standardowych metod są jeszcze `metody klasowe` oraz `metody statyczne`. Więcej o nich w drugiej części\n",
    "#### self\n",
    "Odwołanie do obiektu wewnątrz klasy. Self jest zawsze pierwszym argumentem w metodach. Słowo `self` jest tylko konwencją, tak na prawdę można tam wpisać jakiekolwiek słowo i potem się do niego odnosić, jednak zaleca się trzymać tej konwencji.\n",
    "#### Magiczne metody\n",
    "Zwane również `dunder methods` są to metody zaczunające się i kończące na `__`. Python ma zaimplementowane tzw. magiczne metody. Są one używane w ściśle określonych przypadkach. Wywoływane w odpowiednich momentach, np. magiczna metoda `__init__()` jest wywoływana podczas tworzenia obiektu, zatem jest ona nazywana `konstruktorem`.\n",
    "#### Konstruktor\n",
    "Metoda `__init__()` która jest wywoływana podczas tworzenia obiektu. Jako pierwszy argument zawiera `self` a następnie parametry, które chcemy, żeby konstruktor posiadał. Przykład konstruktora:\n",
    "```python\n",
    "class Person:\n",
    "    def __init__(self, first_name, last_name, gender):\n",
    "        self.first_name = first_name\n",
    "        self.last_name = last_name\n",
    "        self.gender = gender\n",
    "\n",
    "person_object = Person(\"Elon\", \"Musk\", \"male\")\n",
    "print(person_object.first_name) # --> Elon\n",
    "print(person_object.last_name)  # --> Musk\n",
    "print(person_object.gender)     # --> male\n",
    "```\n",
    "\n",
    "\n",
    "\n",
    "\n",
    "\n",
    "\n"
   ]
  },
  {
   "cell_type": "code",
   "execution_count": 4,
   "metadata": {},
   "outputs": [],
   "source": [
    "# definicja klasy\n",
    "class Car:\n",
    "    # atrybut klasowy\n",
    "    speed = 0\n",
    "    # konstruktor, wywoływany podczas tworzenia obiektu\n",
    "    def __init__(self, brand, doors_number, color):\n",
    "        self.brand = brand\n",
    "        self.doors_number = doors_number\n",
    "        self.color = color\n",
    "\n",
    "    # metoda magiczna\n",
    "    def __str__(self):\n",
    "        # Przykład \"BMW with 4 doors and red color\" \n",
    "        return f\"{self.brand} with {self.doors_number} doors and {self.color} color\"\n",
    "    \n",
    "    # metoda\n",
    "    def speed_up(self):\n",
    "        self.speed += 10\n",
    "    \n",
    "    def speed_down(self):\n",
    "        if self.speed > 10:\n",
    "            self.speed -= 10\n",
    "        else:\n",
    "            self.speed = 0\n",
    "    \n"
   ]
  },
  {
   "cell_type": "markdown",
   "metadata": {},
   "source": [
    "### Główne Założenia Programowania Obiektowego\n",
    "\n",
    "#### Abstrakcja\n",
    "Odwołujemy się tutaj do założenia, że klasa ma „chować” logikę, dzięki której otrzymujemy jakąś funkcjonalność.\n",
    "\n",
    "Na przykład przy klasie samochód – kierowca nie interesuje się silnikiem – wie, że po wciśnięciu odpowiedniego pedału samochód zwiększy prędkość.\n",
    "#### Hermetyzacja\n",
    "Założenie to mówi, że klasa powinna chować kod i dane przed niezaplanowanym użyciem.\n",
    "Klasa powinna w pełni kontrolować swój stan.\n",
    "Na przykład klasa samochód nie powinna pozwalać nam usuwać kół, hamulców, itp.\n",
    "Rozróżniamy trzy rodzaje widoczności atrybutów:\n",
    "* publiczny (public) – składnik dostępny z każdego miejsca.\n",
    "* chroniony (protected) – składnik dostępny tylko z wnętrza danej klasy i w podklasach.\n",
    "* prywatny (private) – składnik niedostępny z zewnątrz ani w podklasach - nie ulega dziedziczeniu.\n",
    "Więcej o tym w zawaansowanej części\n",
    "\n",
    "```python\n",
    "\n",
    "class SomeClass:\n",
    "    normal_attribute = \"this is just normal attribute\"\n",
    "    _protected_attribute = \"this attribute can be accessed\"\n",
    "    __private_attribute = \"this attribute can't be accessed\"\n",
    "\n",
    "some_object = SomeClass()\n",
    "print(some_object.normal_attribute)      # --> this is just normal attribute\n",
    "print(some_object._protected_attribute)  # --> this attribute can be accessed\n",
    "print(some_object.__private_attribute)   # --> AttributeError !!!\n",
    "\n",
    "# w pythonie tak na prawdę nie ma w 100% prywatnych atrybutów ;)\n",
    "print(some_object._SomeClass__private_attribute) # --> this attribute can't be accessed\n",
    "\n",
    "```\n",
    "\n",
    "#### Dziedziczenie\n",
    "Klasy mogą po sobie dziedziczyć, przejmują swoje właściwości i funkcjonalności.\n",
    "```python\n",
    "\n",
    "class Book:\n",
    "    def __init__(self, title, author):\n",
    "        self.title = title\n",
    "        self.author = author\n",
    "    \n",
    "    def foo(self):\n",
    "        pass\n",
    "        \n",
    "        \n",
    "class Ebook(Book):\n",
    "    def __init__(self, title, author, size_in_mb):\n",
    "        super().__init__(title, author)\n",
    "        self.size_in_mb = size_in_mb\n",
    "\n",
    "ebook = Ebook(\"Władcy Pierścieni\", \"J.R.R. Tolkien\", 2)\n",
    "# obiekt ebook ma dostęp do pól title oraz author oraz metod z klasy Book\n",
    "print(ebook.title)       # --> Władcy Pierścieni\n",
    "print(ebook.size_in_mb)  # --> J.R.R Tolkien\n",
    "print(ebook.foo())       # mamy dostęp do metody foo() mimo, że została zdefiniowana w klasie Book\n",
    "```\n",
    "#### Polimorfizm\n",
    "Polimorfizm oznacza sytuację, gdzie różne typy obiektu mogą być obsługiwane przez ten sam interfejs. Przykładem jest funkcja pythonowa `len()` która przyjmuje wiele typów:\n",
    "```python\n",
    "# len() being used for a string \n",
    "print(len(\"geeks\")) \n",
    "  \n",
    "# len() being used for a list \n",
    "print(len([10, 20, 30]))\n",
    "```"
   ]
  },
  {
   "cell_type": "markdown",
   "metadata": {},
   "source": [
    "### Zadanie domowe\n",
    "1. Napisz klasę `Complex` która będie implementacją liczby zespolonej `a + bi`. `a` to jest część rzeczywista (re), `b` to część urojona (im). Konstruktor klasy `Complex` powinien przyjmować dwa argumenty `re` oraz `im` które odpowiadają za część rzeczywistą oraz urojoną.\n",
    "2. Do klasy `Complex` napisz metodę magiczną `__str__` która zwraca słowną reprezentację obiektu. Reprezentacja ma wyglądać następująco: \"{re} + {im}i\" gdzie za re wstawiamy część rzeczywistą, a za im część urojoną. Pamiętaj, że jeśli liczba urojona jest ujemna to zamiast plusa należy umieścić minus.\n",
    "3. Do klasy `Complex` napisz metodę `modulus()` która zwraca moduł liczby zespolonej. Wzór jaki należy użyć to: $ \\sqrt{a^2 + b^2} $ \n",
    "\n",
    "__Uwaga__\n",
    "W pliku \"Zadanie Domowe - Rozwiązanie\" jest przykładowe rozwiązanie zadania. Zanim tam spojrzysz, postaraj się samodzielnie rozwiązać zadanie."
   ]
  },
  {
   "cell_type": "markdown",
   "metadata": {},
   "source": [
    "### Źródła\n",
    "* [Wikipedia - Programowanie Obiektowe](https://pl.wikipedia.org/wiki/Programowanie_obiektowe)\n",
    "* [Robert C. Martin - Czysty kod. Podręcznik dobrego programisty](https://helion.pl/ksiazki/czysty-kod-podrecznik-dobrego-programisty-robert-c-martin,czykov.htm#format/d)\n",
    "* [Corey Shafer (YouTube) - OOP Programming](https://www.youtube.com/watch?v=ZDa-Z5JzLYM&list=PL-osiE80TeTsqhIuOqKhwlXsIBIdSeYtc)\n",
    "* [Wyzwanie Python - Programowanie Obiektowe (Artykuł)](https://www.kodolamacz.pl/blog/wyzwanie-python-4-programowanie-obiektowe/)\n",
    "* [Real Python - Object Oriented Programming in Python (Artykuł)](https://realpython.com/python3-object-oriented-programming/)"
   ]
  }
 ],
 "metadata": {
  "kernelspec": {
   "display_name": "Python 3",
   "language": "python",
   "name": "python3"
  },
  "language_info": {
   "codemirror_mode": {
    "name": "ipython",
    "version": 3
   },
   "file_extension": ".py",
   "mimetype": "text/x-python",
   "name": "python",
   "nbconvert_exporter": "python",
   "pygments_lexer": "ipython3",
   "version": "3.7.1"
  }
 },
 "nbformat": 4,
 "nbformat_minor": 2
}
