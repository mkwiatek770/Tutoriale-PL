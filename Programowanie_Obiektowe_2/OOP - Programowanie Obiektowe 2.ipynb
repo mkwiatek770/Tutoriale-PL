{
 "cells": [
  {
   "cell_type": "markdown",
   "metadata": {},
   "source": [
    "# Agenda\n",
    "1. Atrybuty klasowe vs. atrybuty obiektowe\n",
    "2. Gettery i settery\n",
    "3. Metody klasowe\n",
    "4. Metody statyczne\n",
    "5. Iteratory \n",
    "6. Generatory"
   ]
  },
  {
   "cell_type": "markdown",
   "metadata": {},
   "source": [
    "### Atrybuty klasowe vs. zmienne obiektowe\n",
    "Atrybuty/zmienne obiektowe są specyficzne dla każdego obiektu. Atrybuty klasowe tworzymy, gdy chcemy żeby każdy obiekt miał wspólne właściwosći.\n",
    "```python\n",
    "class Person:\n",
    "    \n",
    "    # zmienna klasowa - wspólna dla każdego obiektu\n",
    "    country = \"Poland\"\n",
    "    \n",
    "    def __init__(self, first_name, last_name, age):\n",
    "        # atrybtuty obiektowe - inne dla każdego obiektu\n",
    "        self.first_name = first_name\n",
    "        self.last_name = last_name\n",
    "        self.age = age\n",
    "```"
   ]
  },
  {
   "cell_type": "markdown",
   "metadata": {},
   "source": [
    "### Gettery i settery\n",
    "Gdy zdefiniowaliśmy atrybut prywatny, możemy uzyskiwac do niego dostęp wewnątrz klasy i operować na nim. \n",
    "Poza klasą - nie (choćby z powodu zachowania standardów kodowania). Nie oznacza to jedak, \n",
    "że nie możemy stworzyć sobie metod które zapewnią dostęp do takiej prywatnej właściwości. \n",
    "Uzycie getterów i setterów, to odzwierciedlenie atrybutów tylko do odczytu, tylko do zapisu.\n",
    "\n",
    "Gettery tworzymy używając dekoratora `propery`\n",
    "Przykład gettera\n",
    "\n",
    "```python\n",
    "\n",
    "class Person:\n",
    "    def __init__(self, bt):\n",
    "        self.__blood_type = bt\n",
    "    \n",
    "    @property\n",
    "    def blood_type(self):\n",
    "        return self.__blood_type\n",
    "\n",
    "person = Person(\"AB\")\n",
    "print(person.blood_type)\n",
    "\n",
    "```\n",
    "\n",
    "Dzięki takiemu zastosowaniu - możemy odczytywać grupę krwi danej osoby, ale nie możemy jej zmieniać.\n",
    "\n",
    "Settery tworzymy pisząc dekoratora w następujący sposób\n",
    "`@<nazwa-metody>.setter`\n",
    "Czyli, jeśli chcemy stworzyć właściwośc `blood_type` która będzie służyła do zapisu nowej grupy krwi to napiszemy:\n",
    "`@blood_type.setter`\n",
    "Przykład:\n",
    "    \n",
    "```python\n",
    "\n",
    "class Person:\n",
    "    def __init__(self, bt):\n",
    "        self.__blood_type = bt\n",
    "    \n",
    "    @blood_type.setter\n",
    "    def blood_type(self, bt):\n",
    "        if bt in (\"A+\", \"A-\", \"B+\", \"B-\", \"0+\", \"0-\", \"AB+\", 'AB-'):\n",
    "            self.__blood_type = bt\n",
    "        else:\n",
    "            raise ValueError(\"Incorrect blood type.\")\n",
    "\n",
    "person = Person(\"AB+\")\n",
    "person.blood_type = \"0+\" # od teraz wartość __blood_type dla tego obiektu to 0+\n",
    "person.blood_type = \"C\" # ValueError - Incorrect blood type\n",
    "\n",
    "```\n"
   ]
  },
  {
   "cell_type": "markdown",
   "metadata": {},
   "source": [
    "### Metody klasowe\n",
    "Zazwyczaj metody, które tworzymy wewnątrz klasy dotyczą obiektu i jego atrybutów.\n",
    "Jest jednak możliwość wywoływania metod na klasie nie obiekcie.\n",
    "Czasami potrzebujemy metody, która nie będzie działała na obiekcie jednak będzie potrzebować np. atrybutów wewnątrz klasy\n",
    "Do takiego zastosowania stosujemy metody klasowej.\n",
    "\n",
    "```python\n",
    "class SomeClass:\n",
    "    \n",
    "    @classmethod\n",
    "    def method(cls):\n",
    "        pass\n",
    "```\n"
   ]
  },
  {
   "cell_type": "markdown",
   "metadata": {},
   "source": [
    "### Zadania\n",
    "1. Stwórz klasę `Number` która będzie zawierała atrybut klasowy `DEFAULT_NUMBER`. Stwórz następnie **metodę klasową** `add` która będzie przyjmować argument `number` i owa metoda będzie zwracać sumę `DEFAULT_NUMBER` oraz `number`"
   ]
  },
  {
   "cell_type": "code",
   "execution_count": null,
   "metadata": {},
   "outputs": [],
   "source": []
  }
 ],
 "metadata": {
  "kernelspec": {
   "display_name": "Python 3",
   "language": "python",
   "name": "python3"
  },
  "language_info": {
   "codemirror_mode": {
    "name": "ipython",
    "version": 3
   },
   "file_extension": ".py",
   "mimetype": "text/x-python",
   "name": "python",
   "nbconvert_exporter": "python",
   "pygments_lexer": "ipython3",
   "version": "3.7.1"
  }
 },
 "nbformat": 4,
 "nbformat_minor": 2
}
