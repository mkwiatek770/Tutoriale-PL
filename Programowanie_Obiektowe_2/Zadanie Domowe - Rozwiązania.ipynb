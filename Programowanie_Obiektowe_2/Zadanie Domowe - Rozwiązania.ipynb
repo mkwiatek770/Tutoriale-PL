{
 "cells": [
  {
   "cell_type": "code",
   "execution_count": 1,
   "metadata": {},
   "outputs": [
    {
     "name": "stdout",
     "output_type": "stream",
     "text": [
      "Terminator\n",
      "Matrix\n",
      "Django\n",
      "Terminator\n",
      "Matrix\n",
      "Django\n"
     ]
    }
   ],
   "source": [
    "class Number:\n",
    "    DEFAULT_NUMBER = 10\n",
    "    \n",
    "    # zadanie 1\n",
    "    @classmethod\n",
    "    def add(cls, number):\n",
    "        return cls.DEFAULT_NUMBER + number\n",
    "    \n",
    "    # zadanie 2\n",
    "    @staticmethod\n",
    "    def multiply(number1, number2):\n",
    "        return number1 * number2\n",
    "\n",
    "# zadanie 3\n",
    "def movies_generator(movies):\n",
    "    for movie in movies:\n",
    "        yield movie\n",
    "\n",
    "movies = [\"Terminator\", \"Matrix\", \"Django\"]\n",
    "for element in movies_generator(movies):\n",
    "    print(element)\n",
    "\n",
    "# zadanie 4\n",
    "generator = (movie for movie in [\"Terminator\", \"Matrix\", \"Django\"])\n",
    "for element in generator:\n",
    "    print(element)"
   ]
  }
 ],
 "metadata": {
  "kernelspec": {
   "display_name": "Python 3",
   "language": "python",
   "name": "python3"
  },
  "language_info": {
   "codemirror_mode": {
    "name": "ipython",
    "version": 3
   },
   "file_extension": ".py",
   "mimetype": "text/x-python",
   "name": "python",
   "nbconvert_exporter": "python",
   "pygments_lexer": "ipython3",
   "version": "3.7.1"
  }
 },
 "nbformat": 4,
 "nbformat_minor": 2
}
