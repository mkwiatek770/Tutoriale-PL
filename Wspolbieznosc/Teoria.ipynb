{
 "cells": [
  {
   "cell_type": "markdown",
   "metadata": {},
   "source": [
    "## Przetwarzanie współbieżne\n",
    "Przetwarzanie oparte na współistnieniu wielu **wątków** lub **procesów**, operujących na współdzielonych danych. Wątki uruchomione na tym samym procesorze są przełączane w krótkich przedziałach czasu, co sprawia wrażenie, że wykonują się równolegle. W przypadku procesorów wielordzeniowych lub wielowątkowych, możliwe jest faktycznie współbieżne przetwarzanie.\n",
    "\n",
    "Przetwarzanie współbieżne znajduje szerokie zastosowanie w serwerach, które muszą obsługiwać liczne żądania od różnych klientów. Gdyby serwer działał sekwencyjnie, jedno duże żądanie sparaliżowałoby pracę serwera – pozostałe żądania czekałyby na swoją kolej, aż tamto zostanie ukończone\n",
    "\n",
    "Jednoczesna praca na współdzielonych danych może doprowadzić do utraty ich spójności, dlatego konieczne jest stosowanie różnych mechanizmów synchronizacyjnych, np. **semaforów** i **monitorów**. Niektóre języki programowania (np. Go, Erlang, Ada, Rust) powstały z myślą o tworzeniu systemów współbieżnych i zawierają silne wsparcie dla komunikacji lub synchronizacji wątków już na poziomie języka. \n",
    "\n",
    "**Semafor** - chroniona zmienna lub abstrakcyjny typ danych, który stanowi klasyczną metodę kontroli dostępu przez wiele procesów do wspólnego zasobu w środowisku programowania równoległego. Najczęstszym zastosowaniem jest synchronizacja dostępu do zasobów systemowych współdzielonych przez kilka zadań, aby zapobiec problemom wynikającym z prób jednoczesnego dostępu i modyfikacji danego zasobu.\n",
    "\n",
    "W pythonie obiekt `Semaphore` jest dostępny w bibliotece `asyncio`\n",
    "```python\n",
    "import asyncio\n",
    "asyncio.Semaphore()\n",
    "```\n",
    "\n",
    "**Monitor** - obiekt, który może być bezpiecznie używany przez kilka wątków. Metody monitora chronione są przez muteksy, przez co w dowolnym momencie czasowym z dowolnej metody może korzystać tylko jeden wątek naraz. Upraszcza to budowę obiektów, zwalniając programistę z konieczności implementacji skomplikowanych wykluczeń."
   ]
  },
  {
   "cell_type": "markdown",
   "metadata": {},
   "source": [
    "### Mity związane z współbieżnością\n",
    "\n",
    "* Współbieżność zawsze poprawia wydajność\n",
    "Współbieżność jest związana z pewnym dodatkowym narzutem, więc jeśli program jest bardzo prosty i szybki to współbieżność nie sprawdzi się.\n",
    "\n",
    "* Projekt nie zmienia się jeśli piszemy programy współbieżne\n",
    "Algorytmy współbieżną są zupełnie inne niż algorytmy korzystające sekwencyjnie z jednego wątku. Powinniśmy oddzielić kod związany z współbieżnośćią od reszty w naszej aplikacji.\n",
    "\n",
    "* Jeśli decydujemy się na rozwiązania współbieżne w naszej aplikacji - musimy sprawić, żeby cały nasz program działał na wielu wątkach\n",
    "Współbieżności używamy tylko wtedy, gdy jakaś operacja wymaga dużo czasu do wykonania, takie miejsca będą w naszym programie, dlatego warto się zastanowić nad zaimplementowaniem tam współbieżności. Jest jednak wiele miejsc, gdzie współbieżność nie jest absolutnie potrzebna.\n",
    "\n",
    "\n",
    "### Zalety\n",
    "* Poprawa wydajności\n",
    "Gdy pewna operacja w naszym programie zajmuje dużo czasu np. wysyłanie wiadomości do 1 użytkownika zajmuje 1 sekunde. Gdy mamy 100 użytkowników domagających się wiadomości w tym momencie, ten ostatni będzie czekał 100 sekund. Gdy zastosujemy wielowątkowość i teraz będziemy korzystać równolegle z 10 wątków, użytkownik ostani będzie czekał 10 sekund. \n",
    "\n",
    "* Biblioteki\n",
    "Istnieje wiele dobrych bibliotek, które robi bardzo dużo za nas, dlatego nie musimy się martwić często problemami które występują we współbieżności aż tak bardzo\n",
    "\n",
    "* Niektóre programy łatwiej pisać wielowątkowo\n",
    "W niektórych aplikacjach, jest łatwiej obsłużyć jakiś problem wielowątkowo niż zarządzać wszystkim używając tylko jednego wątku\n",
    "\n",
    "\n",
    "Simultaneous access to multiple applications\n",
    "\n",
    "Your BEA Tuxedo clients can be connected to more than one application at a time.\n",
    "\n",
    "Reduced number of required servers\n",
    "\n",
    "Because one server can dispatch multiple service threads, the number of servers to start for your application is reduced. This capability for multiple dispatched threads is especially useful for conversational servers, which otherwise must be dedicated to one client for the entire duration of a conversation.\n",
    "\n",
    "\n",
    "### Wady\n",
    "Difficulty of writing code\n",
    "\n",
    "Multithreaded and multicontexted applications are not easy to write. Only experienced programmers should undertake coding for these types of applications.\n",
    "\n",
    "Difficulty of debugging\n",
    "\n",
    "It is much harder to replicate an error in a multithreaded or multicontexted application than it is to do so in a single-threaded, single-contexted application. As a result, it is more difficult, in the former case, to identify and verify root causes when errors occur.\n",
    "\n",
    "Difficulty of managing concurrency\n",
    "\n",
    "The task of managing concurrency among threads is difficult and has the potential to introduce new problems into an application.\n",
    "\n",
    "Difficulty of testing\n",
    "\n",
    "Testing a multithreaded application is more difficult than testing a single-threaded application because defects are often timing-related and more difficult to reproduce.\n",
    "\n",
    "Difficulty of porting existing code\n",
    "\n",
    "Existing code often requires significant re-architecting to take advantage of multithreading and multicontexting. Programmers need to:\n",
    "\n",
    "    Remove static variables\n",
    "\n",
    "    Replace any function calls that are not thread-safe\n",
    "\n",
    "    Replace any other code that is not thread-safe \n",
    "\n",
    "Because the completed port must be tested and re-tested, the work required to port a multithreaded and/or multicontexted application is substantial.\n",
    "\n",
    "\n"
   ]
  },
  {
   "cell_type": "markdown",
   "metadata": {},
   "source": [
    "### Źródła\n",
    "\n",
    "* [Wikipedia - Concurrency](https://en.wikipedia.org/wiki/Concurrency_(computer_science))\n",
    "* [RealPython - Concurrency Python](https://realpython.com/python-concurrency/)\n",
    "* [HackerNoon - Concurrency Python](https://hackernoon.com/concurrent-programming-in-python-is-not-what-you-think-it-is-b6439c3f3e6a)\n",
    "*"
   ]
  }
 ],
 "metadata": {
  "kernelspec": {
   "display_name": "Python 3",
   "language": "python",
   "name": "python3"
  },
  "language_info": {
   "codemirror_mode": {
    "name": "ipython",
    "version": 3
   },
   "file_extension": ".py",
   "mimetype": "text/x-python",
   "name": "python",
   "nbconvert_exporter": "python",
   "pygments_lexer": "ipython3",
   "version": "3.6.7"
  }
 },
 "nbformat": 4,
 "nbformat_minor": 2
}
